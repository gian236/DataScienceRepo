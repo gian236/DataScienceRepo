{
 "cells": [
  {
   "cell_type": "markdown",
   "metadata": {},
   "source": [
    "# Proyecto 02 - Data Science - Web Scraping de Apartamentos en Alquiler en Zona 14 - Gian Paolo Robelo 20230117\n",
    "\n",
    "Este proyecto utiliza **BeautifulSoup** y **requests** para realizar scraping de información de apartamentos en alquiler en la página de **Mapainmueble**.\n",
    "\n",
    "## Descripción del Proyecto\n",
    "\n",
    "Se extrae la siguiente información de las propiedades listadas en **https://mapainmueble.com/apartamentos-en-alquiler-zona-14/** para **7 páginas**:\n",
    "\n",
    "- **Título**\n",
    "- **Precio**\n",
    "- **Dormitorios**\n",
    "- **Baños**\n",
    "- **Tamaño**\n",
    "- **Propietario**\n",
    "- **Descripción**\n",
    "- **Fotos**\n",
    "- **Enlace**\n"
   ]
  },
  {
   "cell_type": "code",
   "execution_count": 1,
   "metadata": {},
   "outputs": [],
   "source": [
    "import requests\n",
    "from bs4 import BeautifulSoup\n",
    "import pandas as pd"
   ]
  },
  {
   "cell_type": "code",
   "execution_count": 2,
   "metadata": {},
   "outputs": [],
   "source": [
    "# URL de la página web\n",
    "BASE_URL = \"https://mapainmueble.com/apartamentos-en-alquiler-zona-14/page/{}\"\n",
    "headers = {\n",
    "    'User-Agent': ('Mozilla/5.0 (Windows NT 10.0; Win64; x64) ' 'AppleWebKit/537.36 (KHTML, like Gecko) ''Chrome/115.0.0.0 Safari/537.36')\n",
    "}"
   ]
  },
  {
   "cell_type": "code",
   "execution_count": 3,
   "metadata": {},
   "outputs": [
    {
     "name": "stderr",
     "output_type": "stream",
     "text": [
      "C:\\Users\\gianp\\AppData\\Local\\Packages\\PythonSoftwareFoundation.Python.3.11_qbz5n2kfra8p0\\LocalCache\\local-packages\\Python311\\site-packages\\urllib3\\connectionpool.py:1097: InsecureRequestWarning: Unverified HTTPS request is being made to host 'mapainmueble.com'. Adding certificate verification is strongly advised. See: https://urllib3.readthedocs.io/en/latest/advanced-usage.html#tls-warnings\n",
      "  warnings.warn(\n",
      "C:\\Users\\gianp\\AppData\\Local\\Packages\\PythonSoftwareFoundation.Python.3.11_qbz5n2kfra8p0\\LocalCache\\local-packages\\Python311\\site-packages\\urllib3\\connectionpool.py:1097: InsecureRequestWarning: Unverified HTTPS request is being made to host 'mapainmueble.com'. Adding certificate verification is strongly advised. See: https://urllib3.readthedocs.io/en/latest/advanced-usage.html#tls-warnings\n",
      "  warnings.warn(\n",
      "C:\\Users\\gianp\\AppData\\Local\\Packages\\PythonSoftwareFoundation.Python.3.11_qbz5n2kfra8p0\\LocalCache\\local-packages\\Python311\\site-packages\\urllib3\\connectionpool.py:1097: InsecureRequestWarning: Unverified HTTPS request is being made to host 'mapainmueble.com'. Adding certificate verification is strongly advised. See: https://urllib3.readthedocs.io/en/latest/advanced-usage.html#tls-warnings\n",
      "  warnings.warn(\n",
      "C:\\Users\\gianp\\AppData\\Local\\Packages\\PythonSoftwareFoundation.Python.3.11_qbz5n2kfra8p0\\LocalCache\\local-packages\\Python311\\site-packages\\urllib3\\connectionpool.py:1097: InsecureRequestWarning: Unverified HTTPS request is being made to host 'mapainmueble.com'. Adding certificate verification is strongly advised. See: https://urllib3.readthedocs.io/en/latest/advanced-usage.html#tls-warnings\n",
      "  warnings.warn(\n",
      "C:\\Users\\gianp\\AppData\\Local\\Packages\\PythonSoftwareFoundation.Python.3.11_qbz5n2kfra8p0\\LocalCache\\local-packages\\Python311\\site-packages\\urllib3\\connectionpool.py:1097: InsecureRequestWarning: Unverified HTTPS request is being made to host 'mapainmueble.com'. Adding certificate verification is strongly advised. See: https://urllib3.readthedocs.io/en/latest/advanced-usage.html#tls-warnings\n",
      "  warnings.warn(\n",
      "C:\\Users\\gianp\\AppData\\Local\\Packages\\PythonSoftwareFoundation.Python.3.11_qbz5n2kfra8p0\\LocalCache\\local-packages\\Python311\\site-packages\\urllib3\\connectionpool.py:1097: InsecureRequestWarning: Unverified HTTPS request is being made to host 'mapainmueble.com'. Adding certificate verification is strongly advised. See: https://urllib3.readthedocs.io/en/latest/advanced-usage.html#tls-warnings\n",
      "  warnings.warn(\n",
      "C:\\Users\\gianp\\AppData\\Local\\Packages\\PythonSoftwareFoundation.Python.3.11_qbz5n2kfra8p0\\LocalCache\\local-packages\\Python311\\site-packages\\urllib3\\connectionpool.py:1097: InsecureRequestWarning: Unverified HTTPS request is being made to host 'mapainmueble.com'. Adding certificate verification is strongly advised. See: https://urllib3.readthedocs.io/en/latest/advanced-usage.html#tls-warnings\n",
      "  warnings.warn(\n"
     ]
    }
   ],
   "source": [
    "apartments = []\n",
    "\n",
    "# Recorrer las 7 páginas\n",
    "for page in range(1, 8):\n",
    "    url = BASE_URL.format(page)\n",
    "    response = requests.get(url, headers=headers, verify=False)\n",
    "    \n",
    "    if response.status_code != 200:\n",
    "        print(f\"Error al acceder a la página {page} (status code: {response.status_code})\")\n",
    "        continue\n",
    "    \n",
    "    soup = BeautifulSoup(response.text, 'html.parser')\n",
    "    \n",
    "    # Se buscan los contenedores de las propiedades usando la clase \"listing_wrapper\"\n",
    "    listings = soup.find_all(\"div\", class_=\"listing_wrapper\")\n",
    "    \n",
    "    if not listings:\n",
    "        print(f\"No se encontraron listados en la página {page}. Verifica el selector.\")\n",
    "    \n",
    "    for listing in listings:\n",
    "        try:\n",
    "            # Extraer título y enlace desde la etiqueta <h4> y su <a> interna\n",
    "            title_elem = listing.find(\"h4\")\n",
    "            if title_elem:\n",
    "                link_elem = title_elem.find(\"a\")\n",
    "                title = link_elem.text.strip() if link_elem else \"N/A\"\n",
    "                link = link_elem.get(\"href\", \"N/A\") if link_elem else \"N/A\"\n",
    "            else:\n",
    "                title = \"N/A\"\n",
    "                link = \"N/A\"\n",
    "            \n",
    "            # Extraer precio desde el div de precio\n",
    "            price_elem = listing.find(\"div\", class_=\"listing_unit_price_wrapper\")\n",
    "            price = price_elem.text.strip() if price_elem else \"N/A\"\n",
    "            \n",
    "            # Extraer detalles: dormitorios, baños y tamaño\n",
    "            bedrooms_elem = listing.find(\"span\", class_=\"inforoom\")\n",
    "            bedrooms = bedrooms_elem.text.strip() if bedrooms_elem else \"N/A\"\n",
    "            \n",
    "            bathrooms_elem = listing.find(\"span\", class_=\"infobath\")\n",
    "            bathrooms = bathrooms_elem.text.strip() if bathrooms_elem else \"N/A\"\n",
    "            \n",
    "            size_elem = listing.find(\"span\", class_=\"infosize\")\n",
    "            size = size_elem.text.strip() if size_elem else \"N/A\"\n",
    "            \n",
    "            # Extraer el nombre del propietario desde la sección del agente\n",
    "            owner_elem = listing.find(\"div\", class_=\"property_agent_wrapper\")\n",
    "            if owner_elem:\n",
    "                owner_link = owner_elem.find(\"a\")\n",
    "                owner = owner_link.text.strip() if owner_link else \"N/A\"\n",
    "            else:\n",
    "                owner = \"N/A\"\n",
    "            \n",
    "            # Extraer la descripción\n",
    "            desc_elem = listing.find(\"div\", class_=\"listing_details the_grid_view\")\n",
    "            description = desc_elem.text.strip() if desc_elem else \"N/A\"\n",
    "            \n",
    "            # Extraer el número de fotos\n",
    "            photos_elem = listing.find(\"div\", class_=\"property_media\")\n",
    "            num_photos = \"N/A\"\n",
    "            if photos_elem:\n",
    "                photos_text = photos_elem.text.strip()\n",
    "                num_photos = ''.join(filter(str.isdigit, photos_text)) if any(c.isdigit() for c in photos_text) else \"N/A\"\n",
    "            \n",
    "            apartments.append({\n",
    "                \"Título\": title,\n",
    "                \"Precio\": price,\n",
    "                \"Dormitorios\": bedrooms,\n",
    "                \"Baños\": bathrooms,\n",
    "                \"Tamaño\": size,\n",
    "                \"Propietario\": owner,\n",
    "                \"Descripción\": description,\n",
    "                \"Fotos\": num_photos,\n",
    "                \"Enlace\": link\n",
    "            })\n",
    "        except Exception as e:\n",
    "            print(f\"Error procesando un anuncio: {e}\")\n"
   ]
  },
  {
   "cell_type": "code",
   "execution_count": 4,
   "metadata": {},
   "outputs": [
    {
     "name": "stdout",
     "output_type": "stream",
     "text": [
      "Scraping completado. Datos guardados en 'apartamentos_zona_14.csv'\n"
     ]
    }
   ],
   "source": [
    "# Convertir la lista de propiedades en un DataFrame y guardarlo en CSV\n",
    "df = pd.DataFrame(apartments)\n",
    "df.to_csv(\"apartamentos_zona_14.csv\", index=False, encoding=\"utf-8-sig\")\n",
    "\n",
    "print(\"Scraping completado. Datos guardados en 'apartamentos_zona_14.csv'\")"
   ]
  }
 ],
 "metadata": {
  "kernelspec": {
   "display_name": "Python 3",
   "language": "python",
   "name": "python3"
  },
  "language_info": {
   "codemirror_mode": {
    "name": "ipython",
    "version": 3
   },
   "file_extension": ".py",
   "mimetype": "text/x-python",
   "name": "python",
   "nbconvert_exporter": "python",
   "pygments_lexer": "ipython3",
   "version": "3.11.9"
  }
 },
 "nbformat": 4,
 "nbformat_minor": 2
}
